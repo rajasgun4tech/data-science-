{
  "nbformat": 4,
  "nbformat_minor": 0,
  "metadata": {
    "colab": {
      "name": "Copy of first class_sep11.ipynb",
      "provenance": [],
      "collapsed_sections": [],
      "mount_file_id": "1Wip3h33kivHo03fF2CEsF9Wq-WKer9Pz",
      "authorship_tag": "ABX9TyPlI3IWxLu5fwRe0qgtp+rz",
      "include_colab_link": true
    },
    "kernelspec": {
      "name": "python3",
      "display_name": "Python 3"
    },
    "language_info": {
      "name": "python"
    },
    "accelerator": "GPU"
  },
  "cells": [
    {
      "cell_type": "markdown",
      "metadata": {
        "id": "view-in-github",
        "colab_type": "text"
      },
      "source": [
        "<a href=\"https://colab.research.google.com/github/rajasgun4tech/data-science-/blob/master/Copy_of_first_class_sep11.ipynb\" target=\"_parent\"><img src=\"https://colab.research.google.com/assets/colab-badge.svg\" alt=\"Open In Colab\"/></a>"
      ]
    },
    {
      "cell_type": "code",
      "metadata": {
        "id": "sF6U_2NVigWz"
      },
      "source": [
        "root = \"/content/drive/MyDrive/Colab Notebooks\""
      ],
      "execution_count": null,
      "outputs": []
    },
    {
      "cell_type": "code",
      "metadata": {
        "id": "tavQQFIejhx9"
      },
      "source": [
        "import os\n",
        "\n",
        "os.chdir(root)"
      ],
      "execution_count": null,
      "outputs": []
    },
    {
      "cell_type": "code",
      "metadata": {
        "id": "qlUPoQ6ujk-w"
      },
      "source": [
        "assert  root == os.getcwd()\n"
      ],
      "execution_count": null,
      "outputs": []
    },
    {
      "cell_type": "code",
      "metadata": {
        "colab": {
          "base_uri": "https://localhost:8080/",
          "height": 35
        },
        "id": "0835xt54j-7O",
        "outputId": "6b958518-4d8e-477c-f2ed-3f09469857fd"
      },
      "source": [
        "os.getcwd()"
      ],
      "execution_count": null,
      "outputs": [
        {
          "output_type": "execute_result",
          "data": {
            "application/vnd.google.colaboratory.intrinsic+json": {
              "type": "string"
            },
            "text/plain": [
              "'/content/drive/My Drive/Colab Notebooks'"
            ]
          },
          "metadata": {},
          "execution_count": 13
        }
      ]
    },
    {
      "cell_type": "code",
      "metadata": {
        "id": "IGX-Vd3Nkk4m"
      },
      "source": [
        "## Implimention of Perceptron\n"
      ],
      "execution_count": null,
      "outputs": []
    },
    {
      "cell_type": "code",
      "metadata": {
        "colab": {
          "base_uri": "https://localhost:8080/"
        },
        "id": "5OJbm4jbkyMr",
        "outputId": "c4073491-7459-4fbf-e589-36f702994a78"
      },
      "source": [
        "import matplotlib.pyplot as plt\n",
        "import numpy as np\n",
        "import pandas as pd\n",
        "import joblib  # for saving my model as binary file\n",
        "from matplotlib.colors import ListedColormap\n",
        "\n",
        "plt.style.use(\"fivethirtyeight\")  # this is style of graphs\n",
        "\n",
        "np.random.randn(3)*1e-4\n",
        "\n"
      ],
      "execution_count": null,
      "outputs": [
        {
          "output_type": "execute_result",
          "data": {
            "text/plain": [
              "array([ 8.94154338e-05,  4.16626205e-05, -2.29037142e-04])"
            ]
          },
          "metadata": {},
          "execution_count": 17
        }
      ]
    },
    {
      "cell_type": "code",
      "metadata": {
        "id": "uUildJiwlS2p"
      },
      "source": [
        "class Perceptron:\n",
        "  def __init__(self, eta, epochs):\n",
        "    self.weights = np.random.randn(3)*1e-4\n",
        "    print(f\"inital weights before training: {self.weigthts}\")\n",
        "    self.eta = eta\n",
        "    self.epochs = epochs\n",
        "\n",
        "  def activationFunction(self, inputs, weights):\n",
        "    pass\n",
        "\n",
        "  def fit(self, x,y):\n",
        "    self.x = x\n",
        "    self.y = y\n",
        "    x_with_bias = np.c[self.x, ]\n",
        "\n",
        "  def predict(self, x):\n",
        "    pass\n",
        "\n",
        "  def total_loss(self):\n",
        "    pass\n",
        "\n"
      ],
      "execution_count": null,
      "outputs": []
    },
    {
      "cell_type": "code",
      "metadata": {
        "id": "z13nBkLXrENm"
      },
      "source": [
        ""
      ],
      "execution_count": null,
      "outputs": []
    }
  ]
}